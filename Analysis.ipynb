{
  "cells": [
    {
      "cell_type": "code",
      "execution_count": null,
      "metadata": {
        "id": "lxfUlKelKYmw"
      },
      "outputs": [],
      "source": [
        "import numpy as np\n",
        "import pandas as pd\n",
        "import seaborn as sns\n",
        "import matplotlib.pyplot as plt\n",
        "import random\n",
        "from sklearn import preprocessing"
      ]
    },
    {
      "cell_type": "code",
      "source": [
        "from google.colab import drive\n",
        "drive.mount('/content/drive', force_remount = True)"
      ],
      "metadata": {
        "colab": {
          "base_uri": "https://localhost:8080/"
        },
        "id": "s9KCoMgDu1vD",
        "outputId": "bd2fa908-a645-4f86-9307-d2b0e564585a"
      },
      "execution_count": null,
      "outputs": [
        {
          "output_type": "stream",
          "name": "stdout",
          "text": [
            "Mounted at /content/drive\n"
          ]
        }
      ]
    },
    {
      "cell_type": "markdown",
      "metadata": {
        "id": "8nIqt3i0TwOW"
      },
      "source": [
        "# EDA"
      ]
    },
    {
      "cell_type": "code",
      "execution_count": null,
      "metadata": {
        "id": "2lHWhPQXK7Se"
      },
      "outputs": [],
      "source": [
        "df = pd.read_csv(\"/content/drive/MyDrive/diabetes.csv\")\n",
        "Outcome = {0: -1,1: 1}\n",
        "df.Outcome = [Outcome[item] for item in df.Outcome]\n",
        "df1 = df.copy()\n",
        "Y = df1['Outcome'].to_numpy().reshape(-1,1)\n",
        "df1 = df1.drop(columns=['Outcome'])\n",
        "X = df1.to_numpy()"
      ]
    },
    {
      "cell_type": "code",
      "source": [
        "plt.figure(figsize=(10,10))\n",
        "column_stats = df.describe()[1:].T\n",
        "heat_map = column_stats.style.background_gradient(cmap='Reds')\n",
        "display(heat_map)"
      ],
      "metadata": {
        "colab": {
          "base_uri": "https://localhost:8080/",
          "height": 349
        },
        "id": "xJFQ3695XHT1",
        "outputId": "8a904540-9a26-42a6-9ff6-7b1c9055def0"
      },
      "execution_count": null,
      "outputs": [
        {
          "output_type": "display_data",
          "data": {
            "text/plain": [
              "<pandas.io.formats.style.Styler at 0x7f432f660190>"
            ],
            "text/html": [
              "<style type=\"text/css\">\n",
              "#T_02c08_row0_col0, #T_02c08_row0_col4 {\n",
              "  background-color: #fff0e8;\n",
              "  color: #000000;\n",
              "}\n",
              "#T_02c08_row0_col1 {\n",
              "  background-color: #fff1ea;\n",
              "  color: #000000;\n",
              "}\n",
              "#T_02c08_row0_col2, #T_02c08_row1_col2, #T_02c08_row2_col2, #T_02c08_row3_col2, #T_02c08_row4_col2, #T_02c08_row5_col2 {\n",
              "  background-color: #ffeee6;\n",
              "  color: #000000;\n",
              "}\n",
              "#T_02c08_row0_col3 {\n",
              "  background-color: #fff2eb;\n",
              "  color: #000000;\n",
              "}\n",
              "#T_02c08_row0_col5 {\n",
              "  background-color: #ffefe8;\n",
              "  color: #000000;\n",
              "}\n",
              "#T_02c08_row0_col6 {\n",
              "  background-color: #fff2ec;\n",
              "  color: #000000;\n",
              "}\n",
              "#T_02c08_row1_col0, #T_02c08_row1_col3, #T_02c08_row1_col4, #T_02c08_row1_col5, #T_02c08_row4_col1, #T_02c08_row4_col6, #T_02c08_row7_col2 {\n",
              "  background-color: #67000d;\n",
              "  color: #f1f1f1;\n",
              "}\n",
              "#T_02c08_row1_col1, #T_02c08_row7_col0 {\n",
              "  background-color: #fcb398;\n",
              "  color: #000000;\n",
              "}\n",
              "#T_02c08_row1_col6 {\n",
              "  background-color: #fcc1a8;\n",
              "  color: #000000;\n",
              "}\n",
              "#T_02c08_row2_col0 {\n",
              "  background-color: #f44f39;\n",
              "  color: #f1f1f1;\n",
              "}\n",
              "#T_02c08_row2_col1 {\n",
              "  background-color: #fdd4c2;\n",
              "  color: #000000;\n",
              "}\n",
              "#T_02c08_row2_col3 {\n",
              "  background-color: #ed392b;\n",
              "  color: #f1f1f1;\n",
              "}\n",
              "#T_02c08_row2_col4 {\n",
              "  background-color: #f03d2d;\n",
              "  color: #f1f1f1;\n",
              "}\n",
              "#T_02c08_row2_col5 {\n",
              "  background-color: #f4503a;\n",
              "  color: #f1f1f1;\n",
              "}\n",
              "#T_02c08_row2_col6 {\n",
              "  background-color: #fedbcc;\n",
              "  color: #000000;\n",
              "}\n",
              "#T_02c08_row3_col0 {\n",
              "  background-color: #fdd2bf;\n",
              "  color: #000000;\n",
              "}\n",
              "#T_02c08_row3_col1 {\n",
              "  background-color: #fedecf;\n",
              "  color: #000000;\n",
              "}\n",
              "#T_02c08_row3_col3, #T_02c08_row4_col3, #T_02c08_row6_col4 {\n",
              "  background-color: #fff4ee;\n",
              "  color: #000000;\n",
              "}\n",
              "#T_02c08_row3_col4 {\n",
              "  background-color: #fdc9b3;\n",
              "  color: #000000;\n",
              "}\n",
              "#T_02c08_row3_col5 {\n",
              "  background-color: #fcc3ab;\n",
              "  color: #000000;\n",
              "}\n",
              "#T_02c08_row3_col6 {\n",
              "  background-color: #fee2d5;\n",
              "  color: #000000;\n",
              "}\n",
              "#T_02c08_row4_col0 {\n",
              "  background-color: #e43027;\n",
              "  color: #f1f1f1;\n",
              "}\n",
              "#T_02c08_row4_col4, #T_02c08_row5_col0 {\n",
              "  background-color: #fcb69b;\n",
              "  color: #000000;\n",
              "}\n",
              "#T_02c08_row4_col5 {\n",
              "  background-color: #940b13;\n",
              "  color: #f1f1f1;\n",
              "}\n",
              "#T_02c08_row5_col1 {\n",
              "  background-color: #feeae1;\n",
              "  color: #000000;\n",
              "}\n",
              "#T_02c08_row5_col3 {\n",
              "  background-color: #fcb095;\n",
              "  color: #000000;\n",
              "}\n",
              "#T_02c08_row5_col4 {\n",
              "  background-color: #fcb296;\n",
              "  color: #000000;\n",
              "}\n",
              "#T_02c08_row5_col5, #T_02c08_row7_col4 {\n",
              "  background-color: #fcb99f;\n",
              "  color: #000000;\n",
              "}\n",
              "#T_02c08_row5_col6 {\n",
              "  background-color: #fee8dd;\n",
              "  color: #000000;\n",
              "}\n",
              "#T_02c08_row6_col0, #T_02c08_row8_col1 {\n",
              "  background-color: #fff4ef;\n",
              "  color: #000000;\n",
              "}\n",
              "#T_02c08_row6_col1, #T_02c08_row6_col5, #T_02c08_row6_col6, #T_02c08_row8_col0, #T_02c08_row8_col2, #T_02c08_row8_col3, #T_02c08_row8_col4, #T_02c08_row8_col5, #T_02c08_row8_col6 {\n",
              "  background-color: #fff5f0;\n",
              "  color: #000000;\n",
              "}\n",
              "#T_02c08_row6_col2 {\n",
              "  background-color: #ffede5;\n",
              "  color: #000000;\n",
              "}\n",
              "#T_02c08_row6_col3 {\n",
              "  background-color: #fff3ed;\n",
              "  color: #000000;\n",
              "}\n",
              "#T_02c08_row7_col1 {\n",
              "  background-color: #fee5d8;\n",
              "  color: #000000;\n",
              "}\n",
              "#T_02c08_row7_col3 {\n",
              "  background-color: #fcbba1;\n",
              "  color: #000000;\n",
              "}\n",
              "#T_02c08_row7_col5 {\n",
              "  background-color: #fcae92;\n",
              "  color: #000000;\n",
              "}\n",
              "#T_02c08_row7_col6 {\n",
              "  background-color: #fee5d9;\n",
              "  color: #000000;\n",
              "}\n",
              "</style>\n",
              "<table id=\"T_02c08_\" class=\"dataframe\">\n",
              "  <thead>\n",
              "    <tr>\n",
              "      <th class=\"blank level0\" >&nbsp;</th>\n",
              "      <th class=\"col_heading level0 col0\" >mean</th>\n",
              "      <th class=\"col_heading level0 col1\" >std</th>\n",
              "      <th class=\"col_heading level0 col2\" >min</th>\n",
              "      <th class=\"col_heading level0 col3\" >25%</th>\n",
              "      <th class=\"col_heading level0 col4\" >50%</th>\n",
              "      <th class=\"col_heading level0 col5\" >75%</th>\n",
              "      <th class=\"col_heading level0 col6\" >max</th>\n",
              "    </tr>\n",
              "  </thead>\n",
              "  <tbody>\n",
              "    <tr>\n",
              "      <th id=\"T_02c08_level0_row0\" class=\"row_heading level0 row0\" >Pregnancies</th>\n",
              "      <td id=\"T_02c08_row0_col0\" class=\"data row0 col0\" >3.845052</td>\n",
              "      <td id=\"T_02c08_row0_col1\" class=\"data row0 col1\" >3.369578</td>\n",
              "      <td id=\"T_02c08_row0_col2\" class=\"data row0 col2\" >0.000000</td>\n",
              "      <td id=\"T_02c08_row0_col3\" class=\"data row0 col3\" >1.000000</td>\n",
              "      <td id=\"T_02c08_row0_col4\" class=\"data row0 col4\" >3.000000</td>\n",
              "      <td id=\"T_02c08_row0_col5\" class=\"data row0 col5\" >6.000000</td>\n",
              "      <td id=\"T_02c08_row0_col6\" class=\"data row0 col6\" >17.000000</td>\n",
              "    </tr>\n",
              "    <tr>\n",
              "      <th id=\"T_02c08_level0_row1\" class=\"row_heading level0 row1\" >Glucose</th>\n",
              "      <td id=\"T_02c08_row1_col0\" class=\"data row1 col0\" >120.894531</td>\n",
              "      <td id=\"T_02c08_row1_col1\" class=\"data row1 col1\" >31.972618</td>\n",
              "      <td id=\"T_02c08_row1_col2\" class=\"data row1 col2\" >0.000000</td>\n",
              "      <td id=\"T_02c08_row1_col3\" class=\"data row1 col3\" >99.000000</td>\n",
              "      <td id=\"T_02c08_row1_col4\" class=\"data row1 col4\" >117.000000</td>\n",
              "      <td id=\"T_02c08_row1_col5\" class=\"data row1 col5\" >140.250000</td>\n",
              "      <td id=\"T_02c08_row1_col6\" class=\"data row1 col6\" >199.000000</td>\n",
              "    </tr>\n",
              "    <tr>\n",
              "      <th id=\"T_02c08_level0_row2\" class=\"row_heading level0 row2\" >BloodPressure</th>\n",
              "      <td id=\"T_02c08_row2_col0\" class=\"data row2 col0\" >69.105469</td>\n",
              "      <td id=\"T_02c08_row2_col1\" class=\"data row2 col1\" >19.355807</td>\n",
              "      <td id=\"T_02c08_row2_col2\" class=\"data row2 col2\" >0.000000</td>\n",
              "      <td id=\"T_02c08_row2_col3\" class=\"data row2 col3\" >62.000000</td>\n",
              "      <td id=\"T_02c08_row2_col4\" class=\"data row2 col4\" >72.000000</td>\n",
              "      <td id=\"T_02c08_row2_col5\" class=\"data row2 col5\" >80.000000</td>\n",
              "      <td id=\"T_02c08_row2_col6\" class=\"data row2 col6\" >122.000000</td>\n",
              "    </tr>\n",
              "    <tr>\n",
              "      <th id=\"T_02c08_level0_row3\" class=\"row_heading level0 row3\" >SkinThickness</th>\n",
              "      <td id=\"T_02c08_row3_col0\" class=\"data row3 col0\" >20.536458</td>\n",
              "      <td id=\"T_02c08_row3_col1\" class=\"data row3 col1\" >15.952218</td>\n",
              "      <td id=\"T_02c08_row3_col2\" class=\"data row3 col2\" >0.000000</td>\n",
              "      <td id=\"T_02c08_row3_col3\" class=\"data row3 col3\" >0.000000</td>\n",
              "      <td id=\"T_02c08_row3_col4\" class=\"data row3 col4\" >23.000000</td>\n",
              "      <td id=\"T_02c08_row3_col5\" class=\"data row3 col5\" >32.000000</td>\n",
              "      <td id=\"T_02c08_row3_col6\" class=\"data row3 col6\" >99.000000</td>\n",
              "    </tr>\n",
              "    <tr>\n",
              "      <th id=\"T_02c08_level0_row4\" class=\"row_heading level0 row4\" >Insulin</th>\n",
              "      <td id=\"T_02c08_row4_col0\" class=\"data row4 col0\" >79.799479</td>\n",
              "      <td id=\"T_02c08_row4_col1\" class=\"data row4 col1\" >115.244002</td>\n",
              "      <td id=\"T_02c08_row4_col2\" class=\"data row4 col2\" >0.000000</td>\n",
              "      <td id=\"T_02c08_row4_col3\" class=\"data row4 col3\" >0.000000</td>\n",
              "      <td id=\"T_02c08_row4_col4\" class=\"data row4 col4\" >30.500000</td>\n",
              "      <td id=\"T_02c08_row4_col5\" class=\"data row4 col5\" >127.250000</td>\n",
              "      <td id=\"T_02c08_row4_col6\" class=\"data row4 col6\" >846.000000</td>\n",
              "    </tr>\n",
              "    <tr>\n",
              "      <th id=\"T_02c08_level0_row5\" class=\"row_heading level0 row5\" >BMI</th>\n",
              "      <td id=\"T_02c08_row5_col0\" class=\"data row5 col0\" >31.992578</td>\n",
              "      <td id=\"T_02c08_row5_col1\" class=\"data row5 col1\" >7.884160</td>\n",
              "      <td id=\"T_02c08_row5_col2\" class=\"data row5 col2\" >0.000000</td>\n",
              "      <td id=\"T_02c08_row5_col3\" class=\"data row5 col3\" >27.300000</td>\n",
              "      <td id=\"T_02c08_row5_col4\" class=\"data row5 col4\" >32.000000</td>\n",
              "      <td id=\"T_02c08_row5_col5\" class=\"data row5 col5\" >36.600000</td>\n",
              "      <td id=\"T_02c08_row5_col6\" class=\"data row5 col6\" >67.100000</td>\n",
              "    </tr>\n",
              "    <tr>\n",
              "      <th id=\"T_02c08_level0_row6\" class=\"row_heading level0 row6\" >DiabetesPedigreeFunction</th>\n",
              "      <td id=\"T_02c08_row6_col0\" class=\"data row6 col0\" >0.471876</td>\n",
              "      <td id=\"T_02c08_row6_col1\" class=\"data row6 col1\" >0.331329</td>\n",
              "      <td id=\"T_02c08_row6_col2\" class=\"data row6 col2\" >0.078000</td>\n",
              "      <td id=\"T_02c08_row6_col3\" class=\"data row6 col3\" >0.243750</td>\n",
              "      <td id=\"T_02c08_row6_col4\" class=\"data row6 col4\" >0.372500</td>\n",
              "      <td id=\"T_02c08_row6_col5\" class=\"data row6 col5\" >0.626250</td>\n",
              "      <td id=\"T_02c08_row6_col6\" class=\"data row6 col6\" >2.420000</td>\n",
              "    </tr>\n",
              "    <tr>\n",
              "      <th id=\"T_02c08_level0_row7\" class=\"row_heading level0 row7\" >Age</th>\n",
              "      <td id=\"T_02c08_row7_col0\" class=\"data row7 col0\" >33.240885</td>\n",
              "      <td id=\"T_02c08_row7_col1\" class=\"data row7 col1\" >11.760232</td>\n",
              "      <td id=\"T_02c08_row7_col2\" class=\"data row7 col2\" >21.000000</td>\n",
              "      <td id=\"T_02c08_row7_col3\" class=\"data row7 col3\" >24.000000</td>\n",
              "      <td id=\"T_02c08_row7_col4\" class=\"data row7 col4\" >29.000000</td>\n",
              "      <td id=\"T_02c08_row7_col5\" class=\"data row7 col5\" >41.000000</td>\n",
              "      <td id=\"T_02c08_row7_col6\" class=\"data row7 col6\" >81.000000</td>\n",
              "    </tr>\n",
              "    <tr>\n",
              "      <th id=\"T_02c08_level0_row8\" class=\"row_heading level0 row8\" >Outcome</th>\n",
              "      <td id=\"T_02c08_row8_col0\" class=\"data row8 col0\" >-0.302083</td>\n",
              "      <td id=\"T_02c08_row8_col1\" class=\"data row8 col1\" >0.953903</td>\n",
              "      <td id=\"T_02c08_row8_col2\" class=\"data row8 col2\" >-1.000000</td>\n",
              "      <td id=\"T_02c08_row8_col3\" class=\"data row8 col3\" >-1.000000</td>\n",
              "      <td id=\"T_02c08_row8_col4\" class=\"data row8 col4\" >-1.000000</td>\n",
              "      <td id=\"T_02c08_row8_col5\" class=\"data row8 col5\" >1.000000</td>\n",
              "      <td id=\"T_02c08_row8_col6\" class=\"data row8 col6\" >1.000000</td>\n",
              "    </tr>\n",
              "  </tbody>\n",
              "</table>\n"
            ]
          },
          "metadata": {}
        },
        {
          "output_type": "display_data",
          "data": {
            "text/plain": [
              "<Figure size 720x720 with 0 Axes>"
            ]
          },
          "metadata": {}
        }
      ]
    },
    {
      "cell_type": "markdown",
      "source": [
        "The heatmap above shows us the various statistics of the features considered. These statistics may be useful for inferences depending on how we plan on utilizing these features."
      ],
      "metadata": {
        "id": "eohOrtk6bc5J"
      }
    },
    {
      "cell_type": "code",
      "source": [
        "corr_matrix = df.corr()\n",
        "corr_matrix_heatmap = corr_matrix.style.background_gradient(cmap='Reds')\n",
        "display(corr_matrix_heatmap)"
      ],
      "metadata": {
        "colab": {
          "base_uri": "https://localhost:8080/",
          "height": 331
        },
        "id": "EHkU7AIuZoSb",
        "outputId": "c4f8e965-cf00-4079-b808-2a5ddca2d3dc"
      },
      "execution_count": null,
      "outputs": [
        {
          "output_type": "display_data",
          "data": {
            "text/plain": [
              "<pandas.io.formats.style.Styler at 0x7f432ead4bd0>"
            ],
            "text/html": [
              "<style type=\"text/css\">\n",
              "#T_50d4a_row0_col0, #T_50d4a_row1_col1, #T_50d4a_row2_col2, #T_50d4a_row3_col3, #T_50d4a_row4_col4, #T_50d4a_row5_col5, #T_50d4a_row6_col6, #T_50d4a_row7_col7, #T_50d4a_row8_col8 {\n",
              "  background-color: #67000d;\n",
              "  color: #f1f1f1;\n",
              "}\n",
              "#T_50d4a_row0_col1 {\n",
              "  background-color: #fee8de;\n",
              "  color: #000000;\n",
              "}\n",
              "#T_50d4a_row0_col2 {\n",
              "  background-color: #fee4d8;\n",
              "  color: #000000;\n",
              "}\n",
              "#T_50d4a_row0_col3, #T_50d4a_row7_col4 {\n",
              "  background-color: #fff0e9;\n",
              "  color: #000000;\n",
              "}\n",
              "#T_50d4a_row0_col4, #T_50d4a_row0_col5, #T_50d4a_row0_col6, #T_50d4a_row2_col8, #T_50d4a_row3_col0, #T_50d4a_row3_col1, #T_50d4a_row3_col7, #T_50d4a_row6_col2, #T_50d4a_row7_col3 {\n",
              "  background-color: #fff5f0;\n",
              "  color: #000000;\n",
              "}\n",
              "#T_50d4a_row0_col7 {\n",
              "  background-color: #f24734;\n",
              "  color: #f1f1f1;\n",
              "}\n",
              "#T_50d4a_row0_col8, #T_50d4a_row1_col6 {\n",
              "  background-color: #fdd4c2;\n",
              "  color: #000000;\n",
              "}\n",
              "#T_50d4a_row1_col0 {\n",
              "  background-color: #fdccb8;\n",
              "  color: #000000;\n",
              "}\n",
              "#T_50d4a_row1_col2, #T_50d4a_row6_col8 {\n",
              "  background-color: #fee2d5;\n",
              "  color: #000000;\n",
              "}\n",
              "#T_50d4a_row1_col3 {\n",
              "  background-color: #fed8c7;\n",
              "  color: #000000;\n",
              "}\n",
              "#T_50d4a_row1_col4 {\n",
              "  background-color: #fc9272;\n",
              "  color: #000000;\n",
              "}\n",
              "#T_50d4a_row1_col5, #T_50d4a_row3_col6 {\n",
              "  background-color: #fdc7b2;\n",
              "  color: #000000;\n",
              "}\n",
              "#T_50d4a_row1_col7 {\n",
              "  background-color: #fc9e80;\n",
              "  color: #000000;\n",
              "}\n",
              "#T_50d4a_row1_col8 {\n",
              "  background-color: #fc8161;\n",
              "  color: #f1f1f1;\n",
              "}\n",
              "#T_50d4a_row2_col0, #T_50d4a_row7_col2 {\n",
              "  background-color: #fdc9b3;\n",
              "  color: #000000;\n",
              "}\n",
              "#T_50d4a_row2_col1 {\n",
              "  background-color: #fee5d8;\n",
              "  color: #000000;\n",
              "}\n",
              "#T_50d4a_row2_col3 {\n",
              "  background-color: #fcaf93;\n",
              "  color: #000000;\n",
              "}\n",
              "#T_50d4a_row2_col4 {\n",
              "  background-color: #fed9c9;\n",
              "  color: #000000;\n",
              "}\n",
              "#T_50d4a_row2_col5, #T_50d4a_row6_col3 {\n",
              "  background-color: #fcb69b;\n",
              "  color: #000000;\n",
              "}\n",
              "#T_50d4a_row2_col6 {\n",
              "  background-color: #fee9df;\n",
              "  color: #000000;\n",
              "}\n",
              "#T_50d4a_row2_col7 {\n",
              "  background-color: #fca588;\n",
              "  color: #000000;\n",
              "}\n",
              "#T_50d4a_row3_col2, #T_50d4a_row5_col1 {\n",
              "  background-color: #fdd2bf;\n",
              "  color: #000000;\n",
              "}\n",
              "#T_50d4a_row3_col4 {\n",
              "  background-color: #fb7252;\n",
              "  color: #f1f1f1;\n",
              "}\n",
              "#T_50d4a_row3_col5 {\n",
              "  background-color: #fc9070;\n",
              "  color: #000000;\n",
              "}\n",
              "#T_50d4a_row3_col8 {\n",
              "  background-color: #fff4ee;\n",
              "  color: #000000;\n",
              "}\n",
              "#T_50d4a_row4_col0 {\n",
              "  background-color: #fff4ef;\n",
              "  color: #000000;\n",
              "}\n",
              "#T_50d4a_row4_col1 {\n",
              "  background-color: #fcae92;\n",
              "  color: #000000;\n",
              "}\n",
              "#T_50d4a_row4_col2 {\n",
              "  background-color: #ffede5;\n",
              "  color: #000000;\n",
              "}\n",
              "#T_50d4a_row4_col3 {\n",
              "  background-color: #fb6c4c;\n",
              "  color: #f1f1f1;\n",
              "}\n",
              "#T_50d4a_row4_col5 {\n",
              "  background-color: #fdd0bc;\n",
              "  color: #000000;\n",
              "}\n",
              "#T_50d4a_row4_col6 {\n",
              "  background-color: #fdc6b0;\n",
              "  color: #000000;\n",
              "}\n",
              "#T_50d4a_row4_col7, #T_50d4a_row7_col6 {\n",
              "  background-color: #feeae1;\n",
              "  color: #000000;\n",
              "}\n",
              "#T_50d4a_row4_col8 {\n",
              "  background-color: #feeae0;\n",
              "  color: #000000;\n",
              "}\n",
              "#T_50d4a_row5_col0 {\n",
              "  background-color: #fee6da;\n",
              "  color: #000000;\n",
              "}\n",
              "#T_50d4a_row5_col2, #T_50d4a_row5_col4 {\n",
              "  background-color: #fcbba1;\n",
              "  color: #000000;\n",
              "}\n",
              "#T_50d4a_row5_col3 {\n",
              "  background-color: #fb7858;\n",
              "  color: #f1f1f1;\n",
              "}\n",
              "#T_50d4a_row5_col6, #T_50d4a_row8_col3 {\n",
              "  background-color: #fdd3c1;\n",
              "  color: #000000;\n",
              "}\n",
              "#T_50d4a_row5_col7 {\n",
              "  background-color: #fedecf;\n",
              "  color: #000000;\n",
              "}\n",
              "#T_50d4a_row5_col8 {\n",
              "  background-color: #fcbda4;\n",
              "  color: #000000;\n",
              "}\n",
              "#T_50d4a_row6_col0 {\n",
              "  background-color: #ffeee6;\n",
              "  color: #000000;\n",
              "}\n",
              "#T_50d4a_row6_col1 {\n",
              "  background-color: #fee7dc;\n",
              "  color: #000000;\n",
              "}\n",
              "#T_50d4a_row6_col4 {\n",
              "  background-color: #fcbea5;\n",
              "  color: #000000;\n",
              "}\n",
              "#T_50d4a_row6_col5 {\n",
              "  background-color: #fee0d2;\n",
              "  color: #000000;\n",
              "}\n",
              "#T_50d4a_row6_col7 {\n",
              "  background-color: #fedfd0;\n",
              "  color: #000000;\n",
              "}\n",
              "#T_50d4a_row7_col0 {\n",
              "  background-color: #f34c37;\n",
              "  color: #f1f1f1;\n",
              "}\n",
              "#T_50d4a_row7_col1 {\n",
              "  background-color: #fdc5ae;\n",
              "  color: #000000;\n",
              "}\n",
              "#T_50d4a_row7_col5 {\n",
              "  background-color: #fff2ec;\n",
              "  color: #000000;\n",
              "}\n",
              "#T_50d4a_row7_col8 {\n",
              "  background-color: #fdcebb;\n",
              "  color: #000000;\n",
              "}\n",
              "#T_50d4a_row8_col0, #T_50d4a_row8_col5 {\n",
              "  background-color: #fcb296;\n",
              "  color: #000000;\n",
              "}\n",
              "#T_50d4a_row8_col1 {\n",
              "  background-color: #fc7f5f;\n",
              "  color: #f1f1f1;\n",
              "}\n",
              "#T_50d4a_row8_col2 {\n",
              "  background-color: #fff1ea;\n",
              "  color: #000000;\n",
              "}\n",
              "#T_50d4a_row8_col4 {\n",
              "  background-color: #fdcdb9;\n",
              "  color: #000000;\n",
              "}\n",
              "#T_50d4a_row8_col6 {\n",
              "  background-color: #fdcab5;\n",
              "  color: #000000;\n",
              "}\n",
              "#T_50d4a_row8_col7 {\n",
              "  background-color: #fca689;\n",
              "  color: #000000;\n",
              "}\n",
              "</style>\n",
              "<table id=\"T_50d4a_\" class=\"dataframe\">\n",
              "  <thead>\n",
              "    <tr>\n",
              "      <th class=\"blank level0\" >&nbsp;</th>\n",
              "      <th class=\"col_heading level0 col0\" >Pregnancies</th>\n",
              "      <th class=\"col_heading level0 col1\" >Glucose</th>\n",
              "      <th class=\"col_heading level0 col2\" >BloodPressure</th>\n",
              "      <th class=\"col_heading level0 col3\" >SkinThickness</th>\n",
              "      <th class=\"col_heading level0 col4\" >Insulin</th>\n",
              "      <th class=\"col_heading level0 col5\" >BMI</th>\n",
              "      <th class=\"col_heading level0 col6\" >DiabetesPedigreeFunction</th>\n",
              "      <th class=\"col_heading level0 col7\" >Age</th>\n",
              "      <th class=\"col_heading level0 col8\" >Outcome</th>\n",
              "    </tr>\n",
              "  </thead>\n",
              "  <tbody>\n",
              "    <tr>\n",
              "      <th id=\"T_50d4a_level0_row0\" class=\"row_heading level0 row0\" >Pregnancies</th>\n",
              "      <td id=\"T_50d4a_row0_col0\" class=\"data row0 col0\" >1.000000</td>\n",
              "      <td id=\"T_50d4a_row0_col1\" class=\"data row0 col1\" >0.129459</td>\n",
              "      <td id=\"T_50d4a_row0_col2\" class=\"data row0 col2\" >0.141282</td>\n",
              "      <td id=\"T_50d4a_row0_col3\" class=\"data row0 col3\" >-0.081672</td>\n",
              "      <td id=\"T_50d4a_row0_col4\" class=\"data row0 col4\" >-0.073535</td>\n",
              "      <td id=\"T_50d4a_row0_col5\" class=\"data row0 col5\" >0.017683</td>\n",
              "      <td id=\"T_50d4a_row0_col6\" class=\"data row0 col6\" >-0.033523</td>\n",
              "      <td id=\"T_50d4a_row0_col7\" class=\"data row0 col7\" >0.544341</td>\n",
              "      <td id=\"T_50d4a_row0_col8\" class=\"data row0 col8\" >0.221898</td>\n",
              "    </tr>\n",
              "    <tr>\n",
              "      <th id=\"T_50d4a_level0_row1\" class=\"row_heading level0 row1\" >Glucose</th>\n",
              "      <td id=\"T_50d4a_row1_col0\" class=\"data row1 col0\" >0.129459</td>\n",
              "      <td id=\"T_50d4a_row1_col1\" class=\"data row1 col1\" >1.000000</td>\n",
              "      <td id=\"T_50d4a_row1_col2\" class=\"data row1 col2\" >0.152590</td>\n",
              "      <td id=\"T_50d4a_row1_col3\" class=\"data row1 col3\" >0.057328</td>\n",
              "      <td id=\"T_50d4a_row1_col4\" class=\"data row1 col4\" >0.331357</td>\n",
              "      <td id=\"T_50d4a_row1_col5\" class=\"data row1 col5\" >0.221071</td>\n",
              "      <td id=\"T_50d4a_row1_col6\" class=\"data row1 col6\" >0.137337</td>\n",
              "      <td id=\"T_50d4a_row1_col7\" class=\"data row1 col7\" >0.263514</td>\n",
              "      <td id=\"T_50d4a_row1_col8\" class=\"data row1 col8\" >0.466581</td>\n",
              "    </tr>\n",
              "    <tr>\n",
              "      <th id=\"T_50d4a_level0_row2\" class=\"row_heading level0 row2\" >BloodPressure</th>\n",
              "      <td id=\"T_50d4a_row2_col0\" class=\"data row2 col0\" >0.141282</td>\n",
              "      <td id=\"T_50d4a_row2_col1\" class=\"data row2 col1\" >0.152590</td>\n",
              "      <td id=\"T_50d4a_row2_col2\" class=\"data row2 col2\" >1.000000</td>\n",
              "      <td id=\"T_50d4a_row2_col3\" class=\"data row2 col3\" >0.207371</td>\n",
              "      <td id=\"T_50d4a_row2_col4\" class=\"data row2 col4\" >0.088933</td>\n",
              "      <td id=\"T_50d4a_row2_col5\" class=\"data row2 col5\" >0.281805</td>\n",
              "      <td id=\"T_50d4a_row2_col6\" class=\"data row2 col6\" >0.041265</td>\n",
              "      <td id=\"T_50d4a_row2_col7\" class=\"data row2 col7\" >0.239528</td>\n",
              "      <td id=\"T_50d4a_row2_col8\" class=\"data row2 col8\" >0.065068</td>\n",
              "    </tr>\n",
              "    <tr>\n",
              "      <th id=\"T_50d4a_level0_row3\" class=\"row_heading level0 row3\" >SkinThickness</th>\n",
              "      <td id=\"T_50d4a_row3_col0\" class=\"data row3 col0\" >-0.081672</td>\n",
              "      <td id=\"T_50d4a_row3_col1\" class=\"data row3 col1\" >0.057328</td>\n",
              "      <td id=\"T_50d4a_row3_col2\" class=\"data row3 col2\" >0.207371</td>\n",
              "      <td id=\"T_50d4a_row3_col3\" class=\"data row3 col3\" >1.000000</td>\n",
              "      <td id=\"T_50d4a_row3_col4\" class=\"data row3 col4\" >0.436783</td>\n",
              "      <td id=\"T_50d4a_row3_col5\" class=\"data row3 col5\" >0.392573</td>\n",
              "      <td id=\"T_50d4a_row3_col6\" class=\"data row3 col6\" >0.183928</td>\n",
              "      <td id=\"T_50d4a_row3_col7\" class=\"data row3 col7\" >-0.113970</td>\n",
              "      <td id=\"T_50d4a_row3_col8\" class=\"data row3 col8\" >0.074752</td>\n",
              "    </tr>\n",
              "    <tr>\n",
              "      <th id=\"T_50d4a_level0_row4\" class=\"row_heading level0 row4\" >Insulin</th>\n",
              "      <td id=\"T_50d4a_row4_col0\" class=\"data row4 col0\" >-0.073535</td>\n",
              "      <td id=\"T_50d4a_row4_col1\" class=\"data row4 col1\" >0.331357</td>\n",
              "      <td id=\"T_50d4a_row4_col2\" class=\"data row4 col2\" >0.088933</td>\n",
              "      <td id=\"T_50d4a_row4_col3\" class=\"data row4 col3\" >0.436783</td>\n",
              "      <td id=\"T_50d4a_row4_col4\" class=\"data row4 col4\" >1.000000</td>\n",
              "      <td id=\"T_50d4a_row4_col5\" class=\"data row4 col5\" >0.197859</td>\n",
              "      <td id=\"T_50d4a_row4_col6\" class=\"data row4 col6\" >0.185071</td>\n",
              "      <td id=\"T_50d4a_row4_col7\" class=\"data row4 col7\" >-0.042163</td>\n",
              "      <td id=\"T_50d4a_row4_col8\" class=\"data row4 col8\" >0.130548</td>\n",
              "    </tr>\n",
              "    <tr>\n",
              "      <th id=\"T_50d4a_level0_row5\" class=\"row_heading level0 row5\" >BMI</th>\n",
              "      <td id=\"T_50d4a_row5_col0\" class=\"data row5 col0\" >0.017683</td>\n",
              "      <td id=\"T_50d4a_row5_col1\" class=\"data row5 col1\" >0.221071</td>\n",
              "      <td id=\"T_50d4a_row5_col2\" class=\"data row5 col2\" >0.281805</td>\n",
              "      <td id=\"T_50d4a_row5_col3\" class=\"data row5 col3\" >0.392573</td>\n",
              "      <td id=\"T_50d4a_row5_col4\" class=\"data row5 col4\" >0.197859</td>\n",
              "      <td id=\"T_50d4a_row5_col5\" class=\"data row5 col5\" >1.000000</td>\n",
              "      <td id=\"T_50d4a_row5_col6\" class=\"data row5 col6\" >0.140647</td>\n",
              "      <td id=\"T_50d4a_row5_col7\" class=\"data row5 col7\" >0.036242</td>\n",
              "      <td id=\"T_50d4a_row5_col8\" class=\"data row5 col8\" >0.292695</td>\n",
              "    </tr>\n",
              "    <tr>\n",
              "      <th id=\"T_50d4a_level0_row6\" class=\"row_heading level0 row6\" >DiabetesPedigreeFunction</th>\n",
              "      <td id=\"T_50d4a_row6_col0\" class=\"data row6 col0\" >-0.033523</td>\n",
              "      <td id=\"T_50d4a_row6_col1\" class=\"data row6 col1\" >0.137337</td>\n",
              "      <td id=\"T_50d4a_row6_col2\" class=\"data row6 col2\" >0.041265</td>\n",
              "      <td id=\"T_50d4a_row6_col3\" class=\"data row6 col3\" >0.183928</td>\n",
              "      <td id=\"T_50d4a_row6_col4\" class=\"data row6 col4\" >0.185071</td>\n",
              "      <td id=\"T_50d4a_row6_col5\" class=\"data row6 col5\" >0.140647</td>\n",
              "      <td id=\"T_50d4a_row6_col6\" class=\"data row6 col6\" >1.000000</td>\n",
              "      <td id=\"T_50d4a_row6_col7\" class=\"data row6 col7\" >0.033561</td>\n",
              "      <td id=\"T_50d4a_row6_col8\" class=\"data row6 col8\" >0.173844</td>\n",
              "    </tr>\n",
              "    <tr>\n",
              "      <th id=\"T_50d4a_level0_row7\" class=\"row_heading level0 row7\" >Age</th>\n",
              "      <td id=\"T_50d4a_row7_col0\" class=\"data row7 col0\" >0.544341</td>\n",
              "      <td id=\"T_50d4a_row7_col1\" class=\"data row7 col1\" >0.263514</td>\n",
              "      <td id=\"T_50d4a_row7_col2\" class=\"data row7 col2\" >0.239528</td>\n",
              "      <td id=\"T_50d4a_row7_col3\" class=\"data row7 col3\" >-0.113970</td>\n",
              "      <td id=\"T_50d4a_row7_col4\" class=\"data row7 col4\" >-0.042163</td>\n",
              "      <td id=\"T_50d4a_row7_col5\" class=\"data row7 col5\" >0.036242</td>\n",
              "      <td id=\"T_50d4a_row7_col6\" class=\"data row7 col6\" >0.033561</td>\n",
              "      <td id=\"T_50d4a_row7_col7\" class=\"data row7 col7\" >1.000000</td>\n",
              "      <td id=\"T_50d4a_row7_col8\" class=\"data row7 col8\" >0.238356</td>\n",
              "    </tr>\n",
              "    <tr>\n",
              "      <th id=\"T_50d4a_level0_row8\" class=\"row_heading level0 row8\" >Outcome</th>\n",
              "      <td id=\"T_50d4a_row8_col0\" class=\"data row8 col0\" >0.221898</td>\n",
              "      <td id=\"T_50d4a_row8_col1\" class=\"data row8 col1\" >0.466581</td>\n",
              "      <td id=\"T_50d4a_row8_col2\" class=\"data row8 col2\" >0.065068</td>\n",
              "      <td id=\"T_50d4a_row8_col3\" class=\"data row8 col3\" >0.074752</td>\n",
              "      <td id=\"T_50d4a_row8_col4\" class=\"data row8 col4\" >0.130548</td>\n",
              "      <td id=\"T_50d4a_row8_col5\" class=\"data row8 col5\" >0.292695</td>\n",
              "      <td id=\"T_50d4a_row8_col6\" class=\"data row8 col6\" >0.173844</td>\n",
              "      <td id=\"T_50d4a_row8_col7\" class=\"data row8 col7\" >0.238356</td>\n",
              "      <td id=\"T_50d4a_row8_col8\" class=\"data row8 col8\" >1.000000</td>\n",
              "    </tr>\n",
              "  </tbody>\n",
              "</table>\n"
            ]
          },
          "metadata": {}
        }
      ]
    },
    {
      "cell_type": "markdown",
      "source": [
        "The above heatmap shows the correlations between the features considered and the outcome, which is our label. We can observe that Glucose and BMI have the highest correlation with our outcome label. Further, we can observe that Insulin and BMI show a somewhat high correlation with skin thickness."
      ],
      "metadata": {
        "id": "G4zWJf4Lbz8X"
      }
    },
    {
      "cell_type": "code",
      "source": [
        "plt.figure(figsize=(13,10))\n",
        "corr_matrix_indices = corr_matrix.index[:-1]\n",
        "outcome_corr_barplot = sns.barplot(x=corr_matrix_indices, y= corr_matrix['Outcome'][:-1])\n",
        "plt.title(\"Correlation between outcome and different features\")"
      ],
      "metadata": {
        "colab": {
          "base_uri": "https://localhost:8080/",
          "height": 624
        },
        "id": "YYNKW2N-c0VD",
        "outputId": "4a88594e-b615-4e94-f017-7fe2c5130fe9"
      },
      "execution_count": null,
      "outputs": [
        {
          "output_type": "execute_result",
          "data": {
            "text/plain": [
              "Text(0.5, 1.0, 'Correlation between outcome and different features')"
            ]
          },
          "metadata": {},
          "execution_count": 6
        },
        {
          "output_type": "display_data",
          "data": {
            "text/plain": [
              "<Figure size 936x720 with 1 Axes>"
            ],
            "image/png": "[encoded data removed]"
          },
          "metadata": {
            "needs_background": "light"
          }
        }
      ]
    },
    {
      "cell_type": "markdown",
      "source": [
        "The above bar graph helps us visualize the extent of correlation of the features with the outcome label. We can clearly verify the high correlation of glucose with diabetes here."
      ],
      "metadata": {
        "id": "oPSgO0M0cx6o"
      }
    },
    {
      "cell_type": "code",
      "source": [
        "plt.figure(figsize=(10,10))\n",
        "glucose_bp_scatterplot = sns.scatterplot(data=df, x=\"Glucose\", y=\"BloodPressure\", hue = \"Outcome\")\n",
        "display(glucose_bp_scatterplot)"
      ],
      "metadata": {
        "colab": {
          "base_uri": "https://localhost:8080/",
          "height": 623
        },
        "id": "EErw-bNEtrfN",
        "outputId": "d4ce7daf-0484-422d-c132-92ddb1c03d25"
      },
      "execution_count": null,
      "outputs": [
        {
          "output_type": "display_data",
          "data": {
            "text/plain": [
              "<matplotlib.axes._subplots.AxesSubplot at 0x7f432eb22d10>"
            ]
          },
          "metadata": {}
        },
        {
          "output_type": "display_data",
          "data": {
            "text/plain": [
              "<Figure size 720x720 with 1 Axes>"
            ],
            "image/png": "[encoded data removed]"
          },
          "metadata": {
            "needs_background": "light"
          }
        }
      ]
    },
    {
      "cell_type": "code",
      "source": [
        "plt.figure(figsize=(10,10))\n",
        "glucose_skinthickness_bmi = sns.scatterplot(data=df, x=\"SkinThickness\", y=\"BMI\", hue = \"Outcome\")\n",
        "display(glucose_skinthickness_bmi)"
      ],
      "metadata": {
        "colab": {
          "base_uri": "https://localhost:8080/",
          "height": 623
        },
        "id": "aHMmETtGvWct",
        "outputId": "3d4a54e4-0773-4442-90db-098adbed9a04"
      },
      "execution_count": null,
      "outputs": [
        {
          "output_type": "display_data",
          "data": {
            "text/plain": [
              "<matplotlib.axes._subplots.AxesSubplot at 0x7f432e978710>"
            ]
          },
          "metadata": {}
        },
        {
          "output_type": "display_data",
          "data": {
            "text/plain": [
              "<Figure size 720x720 with 1 Axes>"
            ],
            "image/png": "[encoded data removed]"
          },
          "metadata": {
            "needs_background": "light"
          }
        }
      ]
    },
    {
      "cell_type": "code",
      "source": [
        "hist_pos = sns.histplot(df[df[\"Outcome\"]==1][\"Age\"], color=\"#dd0044\")\n",
        "plt.title(\"Age distribution of positive diabetes patients\")"
      ],
      "metadata": {
        "colab": {
          "base_uri": "https://localhost:8080/",
          "height": 312
        },
        "id": "vE-oZ_gGxawx",
        "outputId": "bbbd7ba9-12a4-4968-a198-538b1fe1b764"
      },
      "execution_count": null,
      "outputs": [
        {
          "output_type": "execute_result",
          "data": {
            "text/plain": [
              "Text(0.5, 1.0, 'Age distribution of positive diabetes patients')"
            ]
          },
          "metadata": {},
          "execution_count": 9
        },
        {
          "output_type": "display_data",
          "data": {
            "text/plain": [
              "<Figure size 432x288 with 1 Axes>"
            ],
            "image/png": "[encoded data removed]"
          },
          "metadata": {
            "needs_background": "light"
          }
        }
      ]
    },
    {
      "cell_type": "code",
      "source": [
        "hist_neg = sns.histplot(df[df[\"Outcome\"]==-1][\"Age\"], color=\"#00ff44\")\n",
        "plt.title(\"Age distribution of negative diabetes patients\")"
      ],
      "metadata": {
        "colab": {
          "base_uri": "https://localhost:8080/",
          "height": 312
        },
        "id": "TQGy_iTAypDp",
        "outputId": "592280bb-1d46-4e14-987c-5d651818521f"
      },
      "execution_count": null,
      "outputs": [
        {
          "output_type": "execute_result",
          "data": {
            "text/plain": [
              "Text(0.5, 1.0, 'Age distribution of negative diabetes patients')"
            ]
          },
          "metadata": {},
          "execution_count": 10
        },
        {
          "output_type": "display_data",
          "data": {
            "text/plain": [
              "<Figure size 432x288 with 1 Axes>"
            ],
            "image/png": "[encoded data removed]"
          },
          "metadata": {
            "needs_background": "light"
          }
        }
      ]
    },
    {
      "cell_type": "markdown",
      "source": [
        "From the above two age distribution histograms, we can see that the age distribution of both, positive and negative diabetic patients, are concentrated on the younger ages. However, the positive patients are somewhat more distributed than the negative patients, with the negative patients being largely very young patients mostly in the 20-30 years range."
      ],
      "metadata": {
        "id": "r9FytKvldaNQ"
      }
    },
    {
      "cell_type": "code",
      "source": [
        "n_cases = len(df)\n",
        "n_positive = len(df.loc[df[\"Outcome\"]==1])\n",
        "percent_positive = round((n_positive/n_cases)*100,3)\n",
        "percent_negative = 100-percent_positive\n",
        "print(f\"Percentage of people who were positive for diabetes = {percent_positive}\")\n",
        "print(f\"Percentage of people who were negative for diabetes = {percent_negative}\")"
      ],
      "metadata": {
        "colab": {
          "base_uri": "https://localhost:8080/"
        },
        "id": "CCXj5GffabHt",
        "outputId": "aa5f6c58-ec1b-4316-ca6b-ab6d47a77319"
      },
      "execution_count": null,
      "outputs": [
        {
          "output_type": "stream",
          "name": "stdout",
          "text": [
            "Percentage of people who were positive for diabetes = 34.896\n",
            "Percentage of people who were negative for diabetes = 65.104\n"
          ]
        }
      ]
    },
    {
      "cell_type": "markdown",
      "source": [
        "# Train-Test Split"
      ],
      "metadata": {
        "id": "xy3B_i3GjVVR"
      }
    },
    {
      "cell_type": "code",
      "source": [
        "def train_test_split(dataset, train_percent):\n",
        "  dataset_length = len(dataset)\n",
        "  train_length = int((train_percent*dataset_length)/100)\n",
        "  indices = range(0, dataset_length)\n",
        "  train_indices = random.sample(indices, train_length)\n",
        "  test_indices = np.delete(indices, train_indices)\n",
        "  df_train = df.iloc[train_indices]\n",
        "  df_test = df.iloc[test_indices]\n",
        "  y_train = df_train['Outcome'].to_numpy().reshape(-1,1)\n",
        "  y_test = df_test['Outcome'].to_numpy().reshape(-1,1)\n",
        "  df_train = df_train.drop(columns=['Outcome'])\n",
        "  x_train = df_train.to_numpy()\n",
        "  df_test = df_test.drop(columns=['Outcome'])\n",
        "  x_test = df_test.to_numpy()\n",
        "\n",
        "  return x_train, y_train, x_test, y_test"
      ],
      "metadata": {
        "id": "F0bGwQ4ujPZf"
      },
      "execution_count": null,
      "outputs": []
    },
    {
      "cell_type": "markdown",
      "metadata": {
        "id": "z61WVH8KT10Q"
      },
      "source": [
        "# SVM"
      ]
    },
    {
      "cell_type": "code",
      "source": [
        "df = pd.read_csv(\"/content/drive/MyDrive/diabetes.csv\")\n",
        "Outcome = {0: -1,1: 1}\n",
        "df.Outcome = [Outcome[item] for item in df.Outcome]\n",
        "df1 = df.copy()\n",
        "Y = df1['Outcome'].to_numpy().reshape(-1,1)\n",
        "df1 = df1.drop(columns=['Outcome'])\n",
        "X = df1.to_numpy()"
      ],
      "metadata": {
        "id": "-lSQY0qvV4NI"
      },
      "execution_count": null,
      "outputs": []
    },
    {
      "cell_type": "code",
      "source": [
        "x_train, y_train, x_test, y_test = train_test_split(df,80)\n",
        "scaler = preprocessing.StandardScaler().fit(x_train)\n",
        "x_train = scaler.transform(x_train)\n",
        "x_test = scaler.transform(x_test)"
      ],
      "metadata": {
        "id": "-b-6B01cvzwB"
      },
      "execution_count": null,
      "outputs": []
    },
    {
      "cell_type": "code",
      "source": [
        "def euclidDistance(P1,P2):\n",
        "    return np.linalg.norm(P1-P2,2)"
      ],
      "metadata": {
        "id": "kKBZE8QRv46-"
      },
      "execution_count": null,
      "outputs": []
    },
    {
      "cell_type": "code",
      "source": [
        "def allDistances(X1, X2):\n",
        "    D = np.zeros((X1.shape[0], X2.shape[0]))\n",
        "    for id_x1 in range(len(X1)):\n",
        "        for id_x2 in range(len(X2)):\n",
        "            D[id_x1,id_x2] = euclidDistance(X1[id_x1,:],X2[id_x2,:])\n",
        "    return D"
      ],
      "metadata": {
        "id": "miGX-zy7v7vZ"
      },
      "execution_count": null,
      "outputs": []
    },
    {
      "cell_type": "markdown",
      "source": [
        "SVM Classifier"
      ],
      "metadata": {
        "id": "J2xBm-qDwDRH"
      }
    },
    {
      "cell_type": "code",
      "source": [
        "def svmPredict(Xtr, Ytr, Xte, reg_parm = 0.1, epochs = 10000):\n",
        "    \n",
        "    n_train, d_train = np.shape(Xtr)\n",
        "    \n",
        "    if any(np.abs(Ytr) != 1):\n",
        "        print(\"The values of Ytr should be +1 or -1.\")\n",
        "        return -1\n",
        "    \n",
        "    \n",
        "    \n",
        "    w = np.zeros(d_train)\n",
        "    \n",
        "    for epoch in range(1, epochs):\n",
        "        learning_rate = 1/epoch        # variable learning rate\n",
        "        for i, x in enumerate(Xtr):\n",
        "            if (Ytr[i] * np.dot(Xtr[i], w)) < 1:\n",
        "                w = (1 - learning_rate)*w + (learning_rate)*reg_parm*Ytr[i]*Xtr[i]\n",
        "            else:\n",
        "                w = (1 - learning_rate)*w\n",
        "    \n",
        "    Ypred = np.dot(Xte, w)\n",
        "    \n",
        "    return Ypred, w"
      ],
      "metadata": {
        "id": "VkWfIb2pv_au"
      },
      "execution_count": null,
      "outputs": []
    },
    {
      "cell_type": "markdown",
      "source": [
        "Classification Error Claculation for SVM"
      ],
      "metadata": {
        "id": "LdQ6M4JLwI7f"
      }
    },
    {
      "cell_type": "code",
      "source": [
        "def calcErrorSVM(Ypred, Ytrue):\n",
        "    count = 0\n",
        "    for i in range(len(Ytrue)):\n",
        "        if Ypred[i]*Ytrue[i] <1 :\n",
        "            count +=1\n",
        "    return count/len(Ytrue)"
      ],
      "metadata": {
        "id": "sODmOiZWwG8-"
      },
      "execution_count": null,
      "outputs": []
    },
    {
      "cell_type": "markdown",
      "source": [
        "SVM Train-Test Error Analysis"
      ],
      "metadata": {
        "id": "tkT8XXTNwTG9"
      }
    },
    {
      "cell_type": "code",
      "source": [
        "def svmTrainTestAnalysis(Xtr, Ytr, Xte, Yte, reg_params):\n",
        "    \n",
        "    train_err = np.zeros(np.shape(reg_params))\n",
        "    test_err = np.zeros(np.shape(reg_params))\n",
        "    \n",
        "    for i in range(len(reg_params)):\n",
        "        Ypredt, w_train = svmPredict(Xtr, Ytr, Xtr, reg_params[i])\n",
        "        train_err[i] = calcErrorSVM(Ypredt, Ytr)\n",
        "        \n",
        "        Ypredtr, w_pred = svmPredict(Xtr, Ytr, Xte, reg_params[i])\n",
        "        test_err[i] = calcErrorSVM(Ypredtr, Yte)\n",
        "\n",
        "    return train_err, test_err"
      ],
      "metadata": {
        "id": "psep0dWiwRp3"
      },
      "execution_count": null,
      "outputs": []
    },
    {
      "cell_type": "markdown",
      "source": [
        "K-Fold Cross Validation for SVM"
      ],
      "metadata": {
        "id": "-dRJPTv0wbQl"
      }
    },
    {
      "cell_type": "code",
      "source": [
        "def kFoldCrossValidationSVM(X,Y, num_of_folds, reg_param_list):\n",
        "    \n",
        "    if num_of_folds <= 0 and num_of_folds >= 100 and isinstance(num_of_folds, int):\n",
        "        print(\"select an integer in between 1 and 100\")\n",
        "        return -1\n",
        "        \n",
        "    size_of_input = X.shape[0]   \n",
        "    size_of_validation = int(np.ceil(size_of_input/num_of_folds))\n",
        "    \n",
        "    num_reg_param = len(reg_param_list)\n",
        "    reg_param_list = np.array(reg_param_list)\n",
        "    \n",
        "    \n",
        "    T_mean, T_sd, V_mean, V_sd = np.zeros(num_reg_param), np.zeros(num_reg_param), np.zeros(num_reg_param), np.zeros(num_reg_param)\n",
        "        \n",
        "    random_index = np.random.choice(size_of_input, size=size_of_input, replace=False)\n",
        "    \n",
        "    for reg_index, reg_param in enumerate(reg_param_list):\n",
        "        first = 0\n",
        "        for fold in range(num_of_folds):\n",
        "            \n",
        "            flags = np.zeros(size_of_input)\n",
        "            flags[first:first+size_of_validation] = 1\n",
        "            \n",
        "            X_training, Y_training = X[flags == 0], Y[flags == 0]\n",
        "            X_validation, Y_validation = X[flags == 1], Y[flags == 1]\n",
        "            \n",
        "            # training Error calculation\n",
        "            Y_train_predict, w = svmPredict(X_training, Y_training, X_training, reg_param)\n",
        "            training_error = calcErrorSVM(Y_train_predict, Y_training)\n",
        "            \n",
        "            T_mean[reg_index] += training_error\n",
        "            T_sd[reg_index] += training_error**2\n",
        "            \n",
        "            # validation errorcalculation\n",
        "            Y_validation_predict, w = svmPredict(X_training, Y_training, X_validation, reg_param)\n",
        "            validation_error = calcErrorSVM(Y_validation_predict, Y_validation)\n",
        "            \n",
        "            V_mean[reg_index] += validation_error\n",
        "            V_sd[reg_index] += validation_error**2\n",
        "            \n",
        "            first += size_of_validation\n",
        "            \n",
        "    T_mean = T_mean / num_of_folds \n",
        "    T_sd = T_sd / num_of_folds - T_mean**2\n",
        "    \n",
        "    V_mean = V_mean / num_of_folds \n",
        "    V_sd = V_sd - V_mean**2\n",
        "    \n",
        "    best_reg_param_index = np.argmin(V_mean)\n",
        "    best_reg_param = reg_param_list[best_reg_param_index]\n",
        "    \n",
        "    return best_reg_param, T_mean, T_sd, V_mean, V_sd"
      ],
      "metadata": {
        "id": "dlsK9YwRwY40"
      },
      "execution_count": null,
      "outputs": []
    },
    {
      "cell_type": "markdown",
      "source": [
        "Calling the model to get an overview for a fixed Regularization Parameter"
      ],
      "metadata": {
        "id": "t1ZjCDtewriA"
      }
    },
    {
      "cell_type": "code",
      "source": [
        "reg_param = 40\n",
        "Y_pred, w = svmPredict(x_train, y_train, x_test, reg_param) \n",
        "train_err1 = calcErrorSVM(Y_pred, y_test)\n",
        "print(w)\n",
        "print(train_err1)\n",
        "\n",
        "# Visualization of the model\n",
        "\n",
        "plt.scatter(np.array(x_test[:,1]), np.array(x_test[:,5]), marker='*',c=y_test)\n",
        "\n",
        "# Create the hyperplane\n",
        "\n",
        "a = -w[1] / w[5]\n",
        "xx = np.linspace(-10,10)\n",
        "yy = a * xx \n",
        "\n",
        "# Plot the hyperplane\n",
        "plt.plot(xx, yy, color='red')\n",
        "\n",
        "# Plot support vectors \n",
        "plt.plot(xx, (yy+1), linestyle='--', color='blue')\n",
        "plt.plot(xx, (yy-1), linestyle='--', color='blue')\n",
        "\n",
        "plt.show();"
      ],
      "metadata": {
        "colab": {
          "base_uri": "https://localhost:8080/",
          "height": 317
        },
        "id": "pCA9GKY0w0Nh",
        "outputId": "2d3eb238-3e32-403b-de58-cd2ec1158863"
      },
      "execution_count": null,
      "outputs": [
        {
          "output_type": "stream",
          "name": "stdout",
          "text": [
            "[ 0.31548939  0.87408439 -0.21014592 -0.04147147 -0.01919309  0.38246148\n",
            "  0.31167634  0.21412022]\n",
            "0.6168831168831169\n"
          ]
        },
        {
          "output_type": "display_data",
          "data": {
            "text/plain": [
              "<Figure size 432x288 with 1 Axes>"
            ],
            "image/png": "[encoded data removed]"
          },
          "metadata": {
            "needs_background": "light"
          }
        }
      ]
    },
    {
      "cell_type": "markdown",
      "source": [
        "Checking the Training and Validation error for Order of the Regularization Parameter"
      ],
      "metadata": {
        "id": "bsOnudJQw4y_"
      }
    },
    {
      "cell_type": "code",
      "source": [
        "import timeit\n",
        "\n",
        "reg_params = [0.001, 0.01, 0.1, 1, 10, 100, 1000, 10000, 100000, 1000000, 10000000]\n",
        "train_errors = np.zeros(len(reg_params))\n",
        "validation_errors = np.zeros(len(reg_params))\n",
        "\n",
        "start_time = timeit.default_timer()\n",
        "\n",
        "train_errors, validation_errors = svmTrainTestAnalysis(x_train, y_train, x_test, y_test, reg_params)\n",
        "    \n",
        "end_time = timeit.default_timer()\n",
        "\n",
        "print('Time taken to complete process:', end_time - start_time)"
      ],
      "metadata": {
        "colab": {
          "base_uri": "https://localhost:8080/"
        },
        "id": "gqesNSTbw3Ot",
        "outputId": "aa2af60b-f33b-4ef9-c262-69233ee56379"
      },
      "execution_count": null,
      "outputs": [
        {
          "output_type": "stream",
          "name": "stdout",
          "text": [
            "Time taken to complete process: 1472.216095925\n"
          ]
        }
      ]
    },
    {
      "cell_type": "code",
      "source": [
        "plt.plot(np.log10(np.array(reg_params)), np.array(train_errors), label='Training Error')\n",
        "plt.plot(np.log10(np.array(reg_params)), np.array(validation_errors), label='Validation Error')\n",
        "plt.xlabel('Regularization Parameters (log scale)', color='#1C2833')\n",
        "plt.ylabel('Errors', color='#1C2833')\n",
        "plt.legend(loc='upper right')\n",
        "plt.grid()\n",
        "plt.show()"
      ],
      "metadata": {
        "colab": {
          "base_uri": "https://localhost:8080/",
          "height": 279
        },
        "id": "iRJvFHXGxNFs",
        "outputId": "8ef0981c-fdc1-4786-fac8-d0c76550392f"
      },
      "execution_count": null,
      "outputs": [
        {
          "output_type": "display_data",
          "data": {
            "text/plain": [
              "<Figure size 432x288 with 1 Axes>"
            ],
            "image/png": "[encoded data removed]"
          },
          "metadata": {
            "needs_background": "light"
          }
        }
      ]
    },
    {
      "cell_type": "markdown",
      "metadata": {
        "id": "aGntpzr3T4m-"
      },
      "source": [
        "# KNN"
      ]
    },
    {
      "cell_type": "code",
      "source": [
        "def kNNClassify(Xtr, Ytr, k, Xte, Te=1):\n",
        "\n",
        "    n_train = Xtr.shape[0]\n",
        "    n_test = Xte.shape[0]\n",
        "\n",
        "    if any(np.abs(Ytr) != 1):\n",
        "        print(\"The values of Ytr should be +1 or -1.\")\n",
        "        return -1\n",
        "\n",
        "    if k > n_train:\n",
        "        print(\"k is greater than the number of points, setting k=n_train\")\n",
        "        k = n_train\n",
        "\n",
        "    Ypred = np.zeros(n_test)\n",
        "\n",
        "    dist = allDistances(Xte, Xtr)\n",
        "\n",
        "    for idx in range(n_test):\n",
        "        if(Te==1): # test set\n",
        "            neigh_indexes = np.argsort(dist[idx, :])[:k]\n",
        "        else:\n",
        "            neigh_indexes = np.argsort(dist[idx, :])[1:k+1]\n",
        "            \n",
        "        avg_neigh = np.mean(Ytr[neigh_indexes])\n",
        "        Ypred[idx] = np.sign(avg_neigh)\n",
        "\n",
        "    return Ypred"
      ],
      "metadata": {
        "id": "gy0qF1PgV4w9"
      },
      "execution_count": null,
      "outputs": []
    },
    {
      "cell_type": "markdown",
      "source": [
        "Classification Error Calculation on KNN"
      ],
      "metadata": {
        "id": "USjyg2wFybPG"
      }
    },
    {
      "cell_type": "code",
      "source": [
        "def knncalcError(Ypred, Ytrue):\n",
        "    return (np.count_nonzero(Ypred!=Ytrue))/len(Ytrue)"
      ],
      "metadata": {
        "id": "1wJRZ2M0ya2Z"
      },
      "execution_count": null,
      "outputs": []
    },
    {
      "cell_type": "markdown",
      "source": [
        "KNN Train-Test Error Analysis"
      ],
      "metadata": {
        "id": "LCX8YevPyh56"
      }
    },
    {
      "cell_type": "code",
      "source": [
        "def knntrainTestAnalysis(Ks, Xtr, Ytr, Xte, Yte):\n",
        "\n",
        "    train_err = np.zeros(np.shape(Ks))\n",
        "    test_err = np.zeros(np.shape(Ks))\n",
        "\n",
        "    kpos = 0\n",
        "    for kpos in range(len(Ks)):\n",
        "        Ypredte = kNNClassify(Xtr, Ytr, Ks[kpos], Xte)\n",
        "        test_err[kpos] = knncalcError(Ypredte, Yte)\n",
        "        \n",
        "        Ypredtr = kNNClassify(Xtr, Ytr, Ks[kpos], Xtr,Te=0)\n",
        "        train_err[kpos] = knncalcError(Ypredtr, Ytr)\n",
        "\n",
        "    return train_err, test_err"
      ],
      "metadata": {
        "id": "FDKTK2EIyhg5"
      },
      "execution_count": null,
      "outputs": []
    },
    {
      "cell_type": "markdown",
      "source": [
        "K-Fold Cross Validation for KNN"
      ],
      "metadata": {
        "id": "ycDu7au9yqkw"
      }
    },
    {
      "cell_type": "code",
      "source": [
        "def KFoldCVkNN(Xtr, Ytr, KF, k_list):\n",
        "\n",
        "    if KF <= 0:\n",
        "        print(\"Please supply a positive number of repetitions\")\n",
        "        return -1\n",
        "\n",
        "    # Ensures that k_list is a numpy array\n",
        "    k_list = np.array(k_list)\n",
        "    num_k = k_list.size\n",
        "\n",
        "    n_tot = Xtr.shape[0]\n",
        "    n_val = int(np.ceil(n_tot/KF))\n",
        "\n",
        "    Tm = np.zeros(num_k)\n",
        "    Ts = np.zeros(num_k)\n",
        "    Vm = np.zeros(num_k)\n",
        "    Vs = np.zeros(num_k)\n",
        "\n",
        "    # Random permutation of training data\n",
        "    rand_idx = np.random.choice(n_tot, size=n_tot, replace=False)\n",
        "    \n",
        "    \n",
        "    for kdx, k in enumerate(k_list):\n",
        "        first = 0\n",
        "        for fold in range(KF):\n",
        "           \n",
        "            flags = np.zeros(Xtr.shape[0])\n",
        "            flags[first:first+n_val]=1;\n",
        "            \n",
        "            X = Xtr[flags==0]\n",
        "            Y = Ytr[flags==0]\n",
        "            X_val = Xtr[flags==1]\n",
        "            Y_val = Ytr[flags==1]\n",
        "\n",
        "            # Compute the training error of the kNN classifier for the given value of k\n",
        "            trError = knncalcError(kNNClassify(X, Y, k, X), Y)\n",
        "            Tm[kdx] += trError\n",
        "            Ts[kdx] += trError ** 2\n",
        "            # Compute the validation error of the kNN classifier for the given value of k\n",
        "            valError = knncalcError(kNNClassify(X, Y, k, X_val), Y_val)\n",
        "            Vm[kdx] += valError\n",
        "            Vs[kdx] += valError ** 2\n",
        "            \n",
        "            first = first+n_val                \n",
        "\n",
        "    Tm = Tm / len(Tm)\n",
        "    Ts = Ts / len(Ts) - Tm ** 2\n",
        "\n",
        "    Vm = Vm / len(Vm)\n",
        "    Vs = Vs / len(Vs) - Vm ** 2\n",
        "\n",
        "    best_k_idx = np.argmin(Vm)\n",
        "    k = k_list[best_k_idx]\n",
        "\n",
        "    return k, Vm, Vs, Tm, Ts"
      ],
      "metadata": {
        "id": "ypn3Wt7bynSb"
      },
      "execution_count": null,
      "outputs": []
    },
    {
      "cell_type": "markdown",
      "source": [
        "Train-Test Analysis of the dataset using KNN"
      ],
      "metadata": {
        "id": "t8lHGKjmyvnv"
      }
    },
    {
      "cell_type": "code",
      "source": [
        "K  = list(range(1,30))\n",
        "[training_error_knn,testing_error_knn] = knntrainTestAnalysis(K, x_train, y_train, x_test, y_test)\n",
        "plt.plot(K, training_error_knn, 'b', label = 'Training Error')\n",
        "plt.plot(K, testing_error_knn, 'g', label = 'Testing Error')\n",
        "plt.xlabel('Values of K', color='#1C2833')\n",
        "plt.ylabel('Errors', color='#1C2833')\n",
        "plt.legend(loc='upper right')\n",
        "plt.grid()\n",
        "plt.show()"
      ],
      "metadata": {
        "id": "4YbxEs8Ky7NA",
        "colab": {
          "base_uri": "https://localhost:8080/",
          "height": 279
        },
        "outputId": "152e71f7-c33b-4a54-88a8-d6e688cea52b"
      },
      "execution_count": null,
      "outputs": [
        {
          "output_type": "display_data",
          "data": {
            "text/plain": [
              "<Figure size 432x288 with 1 Axes>"
            ],
            "image/png": "[encoded data removed]"
          },
          "metadata": {
            "needs_background": "light"
          }
        }
      ]
    },
    {
      "cell_type": "markdown",
      "source": [
        "K-Fold Cross validation for KNN on the same dataset"
      ],
      "metadata": {
        "id": "WIgKzrAEy_aa"
      }
    },
    {
      "cell_type": "code",
      "source": [
        "KF = 10\n",
        "k_list = list(range(1, 20))\n",
        "best_k, Vm_knn, Vs_knn, Tm_knn, Ts_knn = KFoldCVkNN(x_train, y_train, KF, k_list)\n",
        "print(best_k)\n",
        "K = [best_k]\n",
        "[training_error_knn, testing_error_knn] = knntrainTestAnalysis(K, x_train, y_train, x_test, y_test)\n",
        "print('Validation Error for best K:', testing_error_knn)"
      ],
      "metadata": {
        "id": "shdhlJy_zDhV",
        "colab": {
          "base_uri": "https://localhost:8080/"
        },
        "outputId": "fefc107d-90a0-4e4c-d020-fae23c58470f"
      },
      "execution_count": null,
      "outputs": [
        {
          "output_type": "stream",
          "name": "stdout",
          "text": [
            "19\n",
            "Validation Error for best K: [66.42857143]\n"
          ]
        }
      ]
    },
    {
      "cell_type": "markdown",
      "metadata": {
        "id": "EO_qx_LTT6fu"
      },
      "source": [
        "#Neural Network"
      ]
    },
    {
      "cell_type": "code",
      "source": [
        "df = pd.read_csv('/content/drive/MyDrive/diabetes.csv')\n",
        "x_train, y_train, x_test, y_test = train_test_split(df, 80)\n",
        "scaler = preprocessing.StandardScaler().fit(x_train)\n",
        "x_train = scaler.transform(x_train)\n",
        "x_test = scaler.transform(x_test)"
      ],
      "metadata": {
        "id": "zhzSYJSiGxEs"
      },
      "execution_count": 39,
      "outputs": []
    },
    {
      "cell_type": "code",
      "source": [
        "class Layer:\n",
        "  def __init__(self):\n",
        "    self.input = None\n",
        "    self.output = None\n",
        "  \n",
        "  def forward_propagation(self, input):\n",
        "    raise NotImplementedError\n",
        "  \n",
        "  def backward_propagation(self, output_error, learning_rate):\n",
        "    raise NotImplementedError"
      ],
      "metadata": {
        "id": "6iepMOnGV5WA"
      },
      "execution_count": 40,
      "outputs": []
    },
    {
      "cell_type": "markdown",
      "source": [
        "Fully Connected Layer"
      ],
      "metadata": {
        "id": "dyN1-7CfzkUm"
      }
    },
    {
      "cell_type": "code",
      "source": [
        "class FullyConnectedLayer(Layer):\n",
        "  def __init__(self, input_size, output_size):\n",
        "    self.weights = np.random.rand(input_size, output_size)\n",
        "    self.bias = np.random.rand(1, output_size)\n",
        "\n",
        "  def forward_propagation(self, input_data):\n",
        "    self.input = input_data\n",
        "    self.output = np.dot(self.input, self.weights) + self.bias\n",
        "    return self.output\n",
        "  \n",
        "  def backward_propagation(self, output_error, learning_rate):\n",
        "    input_error = np.dot(output_error, self.weights.T)\n",
        "    weights_error = np.dot(self.input.reshape(-1, 1), output_error)\n",
        "\n",
        "    self.weights -= learning_rate * weights_error\n",
        "    self.bias -= learning_rate * output_error\n",
        "    return input_error"
      ],
      "metadata": {
        "id": "atyXadGhzn5d"
      },
      "execution_count": 41,
      "outputs": []
    },
    {
      "cell_type": "markdown",
      "source": [
        "Activation Layer"
      ],
      "metadata": {
        "id": "R7WRKPPAzqJB"
      }
    },
    {
      "cell_type": "code",
      "source": [
        "class ActivationLayer(Layer):\n",
        "    def __init__(self, activation, activation_prime):\n",
        "      self.activation = activation\n",
        "      self.activation_prime = activation_prime\n",
        "\n",
        "    def forward_propagation(self, input_data):\n",
        "      self.input = input_data\n",
        "      self.output = self.activation(self.input)\n",
        "      return self.output\n",
        "\n",
        "    def backward_propagation(self, output_error, learning_rate):\n",
        "      return self.activation_prime(self.input) * output_error"
      ],
      "metadata": {
        "id": "n1pER9gszssa"
      },
      "execution_count": 42,
      "outputs": []
    },
    {
      "cell_type": "markdown",
      "source": [
        "Activation Functions and Their differentials "
      ],
      "metadata": {
        "id": "yOg15veFzwjF"
      }
    },
    {
      "cell_type": "code",
      "source": [
        "def relu(x):\n",
        "  output = np.zeros(x.shape)\n",
        "  for i in range(len(x)):\n",
        "    for j in range(x.shape[1]):\n",
        "      if(x[i][j] > 0):\n",
        "        output[i][j] = x[i][j]\n",
        "      else:\n",
        "        output[i][j] = 0\n",
        "    return output \n",
        "\n",
        "def relu_prime(x):\n",
        "  output = np.zeros(x.shape)\n",
        "  for i in range(len(x)):\n",
        "    for j in range(x.shape[1]):\n",
        "      if(x[i][j] > 0):\n",
        "        output[i][j] = 1\n",
        "      else:\n",
        "        output[i][j] = 0\n",
        "    return output \n",
        "\n",
        "def sigmoid(x):\n",
        "  return 1/(1 + np.exp(-x))\n",
        "\n",
        "def sigmoid_prime(x):\n",
        "  return np.exp(-x)/(1 + np.exp(-x))**2"
      ],
      "metadata": {
        "id": "MZ3e0OgszvIs"
      },
      "execution_count": 43,
      "outputs": []
    },
    {
      "cell_type": "markdown",
      "source": [
        "Binary Cross Entropy Loss and its Derivative"
      ],
      "metadata": {
        "id": "s9JtKdGjz5qz"
      }
    },
    {
      "cell_type": "code",
      "source": [
        "def BCELoss(y_true, y_pred):\n",
        "  return - (np.dot(y_true, np.log(y_pred).T) + np.dot(1-y_true, np.log(1-y_pred).T))/len(y_true)\n",
        "\n",
        "def BCELoss_prime(y_true, y_pred):\n",
        "  return (-y_true/(y_pred + 1e-9) + (1-y_true)/(1-y_pred + 1e-9))/len(y_true)"
      ],
      "metadata": {
        "id": "TLORPFBTz-xD"
      },
      "execution_count": 44,
      "outputs": []
    },
    {
      "cell_type": "markdown",
      "source": [
        "Network Class"
      ],
      "metadata": {
        "id": "pTOrKc-60CeP"
      }
    },
    {
      "cell_type": "code",
      "source": [
        "class Network:\n",
        "  def __init__(self):\n",
        "    self.layers = []\n",
        "    self.loss = None\n",
        "    self.loss_prime = None\n",
        "  \n",
        "  def add_layer(self, layer):\n",
        "    self.layers.append(layer)\n",
        "\n",
        "  def use(self, loss, loss_prime):\n",
        "    self.loss = loss\n",
        "    self.loss_prime = loss_prime\n",
        "  \n",
        "  def predict(self, input_data):\n",
        "    samples = len(input_data)\n",
        "    result = []\n",
        "\n",
        "    for i in range(samples):\n",
        "      output = input_data[i]\n",
        "      for layer in self.layers:\n",
        "        output = layer.forward_propagation(output)\n",
        "      result.append(output)\n",
        "\n",
        "    return result \n",
        "  \n",
        "  def fit(self, x_train, y_train, epochs, learning_rate):\n",
        "    samples = len(x_train)\n",
        "    errors=[]\n",
        "    for i in range(epochs):\n",
        "      err = 0\n",
        "      for j in range(samples):\n",
        "        output = x_train[j]\n",
        "        for layer in self.layers:\n",
        "          output = layer.forward_propagation(output)\n",
        "        err += self.loss(y_train[j], output)\n",
        "        error = self.loss_prime(y_train[j], output)\n",
        "        for layer in reversed(self.layers):\n",
        "          error = layer.backward_propagation(error, learning_rate)\n",
        "\n",
        "      err /= samples\n",
        "      if i%100 == 99:\n",
        "        print('epoch %d/%d   error=%f' % (i+1, epochs, err))\n",
        "      errors.append(err)\n",
        "    return errors"
      ],
      "metadata": {
        "id": "w3_FRNvD0D9X"
      },
      "execution_count": 67,
      "outputs": []
    },
    {
      "cell_type": "markdown",
      "source": [
        "Creating the Neural Network"
      ],
      "metadata": {
        "id": "juBaoOWt0F0t"
      }
    },
    {
      "cell_type": "code",
      "source": [
        "NN = Network()\n",
        "NN.add_layer(FullyConnectedLayer(8, 4))\n",
        "NN.add_layer(ActivationLayer(relu, relu_prime))\n",
        "NN.add_layer(FullyConnectedLayer(4, 2))\n",
        "NN.add_layer(ActivationLayer(relu, relu_prime))\n",
        "NN.add_layer(FullyConnectedLayer(2, 1))\n",
        "NN.add_layer(ActivationLayer(sigmoid, sigmoid_prime))\n",
        "\n",
        "NN.use(BCELoss, BCELoss_prime)"
      ],
      "metadata": {
        "id": "D9omq4dU0IqK"
      },
      "execution_count": 68,
      "outputs": []
    },
    {
      "cell_type": "code",
      "source": [
        "errors = NN.fit(x_train, y_train, epochs = 1000, learning_rate = 0.0001)"
      ],
      "metadata": {
        "id": "8X3y9xkQ0K15",
        "colab": {
          "base_uri": "https://localhost:8080/"
        },
        "outputId": "f62c6e35-94b8-49c7-aec8-58dceb8be6d3"
      },
      "execution_count": 69,
      "outputs": [
        {
          "output_type": "stream",
          "name": "stdout",
          "text": [
            "epoch 100/1000   error=0.620059\n",
            "epoch 200/1000   error=0.578206\n",
            "epoch 300/1000   error=0.563537\n",
            "epoch 400/1000   error=0.554545\n",
            "epoch 500/1000   error=0.547473\n",
            "epoch 600/1000   error=0.541018\n",
            "epoch 700/1000   error=0.535009\n",
            "epoch 800/1000   error=0.529057\n",
            "epoch 900/1000   error=0.523383\n",
            "epoch 1000/1000   error=0.516698\n"
          ]
        }
      ]
    },
    {
      "cell_type": "code",
      "source": [
        "epochs = [i+1 for i in range(1000)]\n",
        "plt.plot(epochs, errors)"
      ],
      "metadata": {
        "colab": {
          "base_uri": "https://localhost:8080/",
          "height": 282
        },
        "id": "h_vlnoA2IOac",
        "outputId": "030a9866-dae2-4681-9f69-f3751b522e71"
      },
      "execution_count": 70,
      "outputs": [
        {
          "output_type": "execute_result",
          "data": {
            "text/plain": [
              "[<matplotlib.lines.Line2D at 0x7f432a6dbb50>]"
            ]
          },
          "metadata": {},
          "execution_count": 70
        },
        {
          "output_type": "display_data",
          "data": {
            "text/plain": [
              "<Figure size 432x288 with 1 Axes>"
            ],
            "image/png": "[encoded data removed]"
          },
          "metadata": {
            "needs_background": "light"
          }
        }
      ]
    },
    {
      "cell_type": "markdown",
      "metadata": {
        "id": "1GBPzXgzT8qw"
      },
      "source": [
        "# Conclusion"
      ]
    },
    {
      "cell_type": "code",
      "execution_count": 71,
      "metadata": {
        "id": "f2-77T-OT90a"
      },
      "outputs": [],
      "source": [
        "from sklearn.metrics import f1_score\n",
        "from sklearn.metrics import confusion_matrix"
      ]
    },
    {
      "cell_type": "code",
      "source": [
        "df = pd.read_csv(\"/content/drive/MyDrive/diabetes.csv\")\n",
        "Outcome = {0: -1,1: 1}\n",
        "df.Outcome = [Outcome[item] for item in df.Outcome]\n",
        "df1 = df.copy()\n",
        "Y = df1['Outcome'].to_numpy().reshape(-1,1)\n",
        "df1 = df1.drop(columns=['Outcome'])\n",
        "X = df1.to_numpy()"
      ],
      "metadata": {
        "id": "GybriDh2LLTw"
      },
      "execution_count": 82,
      "outputs": []
    },
    {
      "cell_type": "code",
      "source": [
        "x_train, y_train, x_test, y_test = train_test_split(df, 80)\n",
        "scaler = preprocessing.StandardScaler().fit(x_train)\n",
        "x_train = scaler.transform(x_train)\n",
        "x_test = scaler.transform(x_test)"
      ],
      "metadata": {
        "id": "FAJHwoePKoCi"
      },
      "execution_count": 83,
      "outputs": []
    },
    {
      "cell_type": "markdown",
      "source": [
        "###SVC"
      ],
      "metadata": {
        "id": "ckFtJA7oVZ8o"
      }
    },
    {
      "cell_type": "code",
      "source": [
        "y_test_pred, w = svmPredict(x_train, y_train, x_test, 40)\n",
        "y_pred = []\n",
        "for i in range(len(y_test_pred)):\n",
        "  if y_test_pred[i] < 0:\n",
        "    y_pred.append(0)\n",
        "  else:\n",
        "    y_pred.append(1)\n",
        "f1_svc = f1_score(y_test,y_pred, average='micro')\n",
        "print(f\"F1 score for Support Vector Classifier is :{f1_svc}\")"
      ],
      "metadata": {
        "id": "QSGa8HR6UP29",
        "colab": {
          "base_uri": "https://localhost:8080/"
        },
        "outputId": "b8eb08e3-2ef3-4dc5-c7f2-dbf79cf0789b"
      },
      "execution_count": 98,
      "outputs": [
        {
          "output_type": "stream",
          "name": "stdout",
          "text": [
            "F1 score for Support Vector Classifier is :0.2792207792207792\n"
          ]
        }
      ]
    },
    {
      "cell_type": "code",
      "source": [
        "confusion_matrix_svc = confusion_matrix(y_test,y_pred)\n",
        "print(confusion_matrix)\n",
        "accuracy = round(confusion_matrix_svc[1][1]/(confusion_matrix_svc[1][1] + confusion_matrix_svc[0][1])*100, 3)\n",
        "print(f\"Accuracy of the Support Vector Classifier is {accuracy} %\")"
      ],
      "metadata": {
        "id": "8NmjIKO_UP5r",
        "colab": {
          "base_uri": "https://localhost:8080/"
        },
        "outputId": "de7faf43-2ddf-4656-eff0-8fabdc19b76f"
      },
      "execution_count": 99,
      "outputs": [
        {
          "output_type": "stream",
          "name": "stdout",
          "text": [
            "<function confusion_matrix at 0x7f432a6bb200>\n",
            "Accuracy of the Support Vector Classifier is 0.0 %\n"
          ]
        }
      ]
    },
    {
      "cell_type": "markdown",
      "source": [
        "###KNN"
      ],
      "metadata": {
        "id": "Zkma1RNYViBu"
      }
    },
    {
      "cell_type": "code",
      "source": [
        "y_test_pred = \n",
        "f1_knn = f1_score(y_test,y_test_pred)\n",
        "print(f\"F1 score for the k-Nearest Neighbours Classifier is :{f1_knn}\")"
      ],
      "metadata": {
        "id": "sfOHi-tOUP8Z"
      },
      "execution_count": null,
      "outputs": []
    },
    {
      "cell_type": "code",
      "source": [
        "confusion_matrix_knn = confusion_matrix(y_test,y_test_pred)\n",
        "print(confusion_matrix)\n",
        "accuracy = round(confusion_matrix_knn[1][1]\\(confusion_matrix_knn[1][1] + confusion_matrix_knn[0][1])*100,3)\n",
        "print(f\"Accuracy of the k-Nearest Neighbours Classifier is {accuracy} %\")"
      ],
      "metadata": {
        "id": "v40yEgc5UP_k"
      },
      "execution_count": null,
      "outputs": []
    },
    {
      "cell_type": "markdown",
      "source": [
        "###Neural Network\n"
      ],
      "metadata": {
        "id": "7ST8CBDvViu-"
      }
    },
    {
      "cell_type": "code",
      "source": [
        "df = pd.read_csv(\"/content/drive/MyDrive/diabetes.csv\")\n",
        "x_train, y_train, x_test, y_test = train_test_split(df, 80)\n",
        "scaler = preprocessing.StandardScaler().fit(x_train)\n",
        "x_train = scaler.transform(x_train)\n",
        "x_test = scaler.transform(x_test)"
      ],
      "metadata": {
        "id": "OgfaQmXqS3nN"
      },
      "execution_count": 101,
      "outputs": []
    },
    {
      "cell_type": "code",
      "source": [
        "y_test_pred = NN.predict(x_test)\n",
        "f1_nn = f1_score(y_test,y_test_pred)\n",
        "print(f\"F1 score for the Neural Network is :{f1_nn}\")"
      ],
      "metadata": {
        "id": "9UnB3YGVUQHw"
      },
      "execution_count": null,
      "outputs": []
    },
    {
      "cell_type": "code",
      "source": [
        "confusion_matrix_nn = confusion_matrix(y_test,y_test_pred)\n",
        "print(confusion_matrix)\n",
        "accuracy = round(confusion_matrix_nn[1][1]\\(confusion_matrix_nn[1][1] + confusion_matrix_nn[0][1])*100,3)\n",
        "print(f\"Accuracy of the Neural Network is {accuracy} %\")"
      ],
      "metadata": {
        "id": "QTXjGBWFUQOq"
      },
      "execution_count": null,
      "outputs": []
    },
    {
      "cell_type": "markdown",
      "source": [
        "We can clearly see that the #insert_model_name# is the most accurate model for this dataset, with an accuracy of #insert_accuracy# and an F1 score of #insert_f1_score#. "
      ],
      "metadata": {
        "id": "1Rj0HCn6UhJ8"
      }
    }
  ],
  "metadata": {
    "colab": {
      "name": "CS419-Project.ipynb",
      "provenance": [],
      "collapsed_sections": []
    },
    "kernelspec": {
      "display_name": "Python 3",
      "name": "python3"
    },
    "language_info": {
      "name": "python"
    }
  },
  "nbformat": 4,
  "nbformat_minor": 0
}